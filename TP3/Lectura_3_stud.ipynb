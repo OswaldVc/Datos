{
  "nbformat": 4,
  "nbformat_minor": 0,
  "metadata": {
    "colab": {
      "name": "Lectura_3_stud.ipynb",
      "provenance": [],
      "collapsed_sections": [
        "un3s8p2Bnz50",
        "IEGzj7CZYgBB"
      ],
      "include_colab_link": true
    },
    "kernelspec": {
      "name": "python3",
      "display_name": "Python 3"
    },
    "language_info": {
      "name": "python"
    }
  },
  "cells": [
    {
      "cell_type": "markdown",
      "metadata": {
        "id": "view-in-github",
        "colab_type": "text"
      },
      "source": [
        "<a href=\"https://colab.research.google.com/github/OswaldVc/Datos/blob/main/TP3/Lectura_3_stud.ipynb\" target=\"_parent\"><img src=\"https://colab.research.google.com/assets/colab-badge.svg\" alt=\"Open In Colab\"/></a>"
      ]
    },
    {
      "cell_type": "markdown",
      "source": [
        "![identificadores_centrados_en_ti_logo-h.png](data:image/png;base64,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)"
      ],
      "metadata": {
        "id": "YE1XpVTNSSRT"
      }
    },
    {
      "cell_type": "markdown",
      "source": [
        "---\n",
        "## Lectura 3: Conjuntos y diccionarios\n",
        "---\n",
        "\n",
        "**Objetivo de aprendizaje**: Diferenciar entre conjuntos, listas, tuplas y diccionarios en Python. Además, sabrá cómo crearlos y utilizarlos."
      ],
      "metadata": {
        "id": "VTiIkTS4SWFP"
      }
    },
    {
      "cell_type": "markdown",
      "metadata": {
        "id": "fu0aMIUHVkxj"
      },
      "source": [
        "---\n",
        "# Estudio solicitudes para grupos de investigación\n",
        "---\n",
        "\n",
        "**Objetivo de aprendizaje**: Diferenciar entre conjuntos, listas, tuplas y diccionarios en Python. Además, sabrá cómo crearlos y utilizarlos.\n",
        "\n",
        "Eres asistente de una profesora quien llama Franceni Otoria Siatoba, originaria de la cuidad de Pitalito en el departamento del Huila. Ella ha recopilado solicitudes para su grupo de profesores investigadores. Estos están en un documento Word que actualiza cada vez que recibe un email de un solicitante. Hay cuatro personas interesadas en unirse al grupo. Se le ha pedido que ayude a obtener información preliminar sobre los tipos de intereses que los solicitantes tienen en común, así como a organizar los datos para su posterior análisis y entrevistas."
      ]
    },
    {
      "cell_type": "markdown",
      "metadata": {
        "id": "b5AaFQG8Vv6J"
      },
      "source": [
        "## Análisis de afinidades\n",
        "\n",
        "Estas son las preferencias que informaron los solicitantes (los nombres de los solicitantes y los sujetos no están en ningún orden en particular):\n",
        "\n",
        "* **Dr. Omar Honorio Garzón**:\n",
        "    - Topología\n",
        "    - Matemáticas Aplicadas\n",
        "    - Teoría de números\n",
        "* **Dr. Ana Clemetina Maldonado**:\n",
        "    - Estadística\n",
        "    - Economía laboral\n",
        "    - Matemáticas Aplicadas\n",
        "    - Literatura medieval\n",
        "* **Dr. Acsa Gisell Trujillo**:\n",
        "    - Desarrollo de software\n",
        "    - Estadística\n",
        "    - Matemáticas Aplicadas\n",
        "    - Teoría de números\n",
        "* **Dr. Yerson Ferney Daza**:\n",
        "    - Mecánica cuántica\n",
        "    - Relatividad general\n",
        "    - Computación cuántica\n",
        "    \n",
        "Creemos un objeto Python para que cada académic@ almacene estas preferencias:"
      ]
    },
    {
      "cell_type": "code",
      "metadata": {
        "id": "x79hGNKEVgv-"
      },
      "source": [
        "omar_honorio_garzon_intereses = {\"topología\", \"matemáticas aplicadas\", \"teoría de números\"}\n",
        "ana_clementina_maldonado_intereses = {\"estadística\", \"economía laboral\", \"matemáticas aplicadas\", \"literatura medieval\"}\n",
        "acsa_gisell_trujillo_intereses = {\"desarrollo de software\", \"estadística\", \"matemáticas aplicadas\", \"teoría de números\"}\n",
        "yerson_ferney_daza_intereses = {\"mecánica cuántica\", \"relatividad general\"}"
      ],
      "execution_count": null,
      "outputs": []
    },
    {
      "cell_type": "markdown",
      "metadata": {
        "id": "sSPvCiPiXpyX"
      },
      "source": [
        "Este tipo particular de objeto se llama `conjunto`. Los conjuntos se crean colocando elementos entre llaves y separándos por comas. Al ser un conjunto no hay elementos repetidos. ¿Qué sucedió con uno de los intereses de Yerson Daza? Debemos agregar `computación cuántica` a `yerson_ferney_daza_interests`. Esto es posible con el método **`.add()`**."
      ]
    },
    {
      "cell_type": "code",
      "metadata": {
        "colab": {
          "base_uri": "https://localhost:8080/"
        },
        "id": "JjbWKwLtYuzn",
        "outputId": "c5d02fb5-3c00-45f8-fc72-d3d34ce40aea"
      },
      "source": [
        "yerson_ferney_daza_intereses.add(\"computación cuántica\")\n",
        "yerson_ferney_daza_intereses"
      ],
      "execution_count": null,
      "outputs": [
        {
          "output_type": "execute_result",
          "data": {
            "text/plain": [
              "{'computación cuántica', 'mecánica cuántica', 'relatividad general'}"
            ]
          },
          "metadata": {},
          "execution_count": 3
        }
      ]
    },
    {
      "cell_type": "markdown",
      "metadata": {
        "id": "s4WR2P5BZMbS"
      },
      "source": [
        "Los conjuntos en Python permiten la operación de intersección.\n",
        "\n",
        "~~~python\n",
        "A & B\n",
        "~~~\n",
        "\n",
        "donde `A` and `B` son conjuntos."
      ]
    },
    {
      "cell_type": "code",
      "metadata": {
        "id": "pJqA2thiZ0Vt",
        "colab": {
          "base_uri": "https://localhost:8080/"
        },
        "outputId": "56f5c0c0-e0bd-4c06-9096-d3582a8949d9"
      },
      "source": [
        "## Intereses comunes Garzón y Maldonado.\n",
        "omar_honorio_garzon_intereses & ana_clementina_maldonado_intereses"
      ],
      "execution_count": null,
      "outputs": [
        {
          "output_type": "execute_result",
          "data": {
            "text/plain": [
              "{'matemáticas aplicadas'}"
            ]
          },
          "metadata": {},
          "execution_count": 5
        }
      ]
    },
    {
      "cell_type": "code",
      "metadata": {
        "id": "TDgLxZynaR1s",
        "colab": {
          "base_uri": "https://localhost:8080/"
        },
        "outputId": "5a7b0c99-78db-4552-9df0-2871c8be596a"
      },
      "source": [
        "## Intereses comunes trujillo y daza.\n",
        "## Su código acá\n",
        "acsa_gisell_trujillo_intereses & yerson_ferney_daza_intereses"
      ],
      "execution_count": null,
      "outputs": [
        {
          "output_type": "execute_result",
          "data": {
            "text/plain": [
              "set()"
            ]
          },
          "metadata": {},
          "execution_count": 6
        }
      ]
    },
    {
      "cell_type": "markdown",
      "metadata": {
        "id": "x6oO7Zc_abrV"
      },
      "source": [
        "El anterior conjunto es el **conjunto vacío**, es decir un conjunto que no tiene elementos.\n",
        "\n",
        "Puede verificar que este conjunto está vacío, llamando a la función **`len()`**, que proporciona el número de elementos del conjunto que se le pasa:"
      ]
    },
    {
      "cell_type": "code",
      "metadata": {
        "id": "kEJ5hps3bG_2",
        "colab": {
          "base_uri": "https://localhost:8080/"
        },
        "outputId": "3da14914-400f-4e38-8619-36e48553f1cb"
      },
      "source": [
        "## intereses comunes de todos.\n",
        "## Complete el código.\n",
        "intereses_comunes_todos = omar_honorio_garzon_intereses & ana_clementina_maldonado_intereses & acsa_gisell_trujillo_intereses & yerson_ferney_daza_intereses\n",
        "print(intereses_comunes_todos)\n",
        "len(intereses_comunes_todos) \n",
        "print(intereses_comunes_todos)\n",
        "len(intereses_comunes_todos)"
      ],
      "execution_count": null,
      "outputs": [
        {
          "output_type": "stream",
          "name": "stdout",
          "text": [
            "set()\n",
            "set()\n"
          ]
        },
        {
          "output_type": "execute_result",
          "data": {
            "text/plain": [
              "0"
            ]
          },
          "metadata": {},
          "execution_count": 8
        }
      ]
    },
    {
      "cell_type": "markdown",
      "metadata": {
        "id": "tpGZjq9xbwy2"
      },
      "source": [
        "La palabra clave **`in`** es utilizada para verificar que la `relatividad general` está en el conjunto de temas del Dr. Daza, mientras que no está en el de la Dra. Trujillo:"
      ]
    },
    {
      "cell_type": "code",
      "metadata": {
        "id": "bZEOdDf6cScE",
        "colab": {
          "base_uri": "https://localhost:8080/"
        },
        "outputId": "3f74b07b-3cc8-4108-c9e1-7b2647e6043d"
      },
      "source": [
        "print(\"relatividad general\" in acsa_gisell_trujillo_intereses)\n",
        "print(\"relatividad general\" in yerson_ferney_daza_intereses)"
      ],
      "execution_count": null,
      "outputs": [
        {
          "output_type": "stream",
          "name": "stdout",
          "text": [
            "False\n",
            "True\n"
          ]
        }
      ]
    },
    {
      "cell_type": "markdown",
      "metadata": {
        "id": "WTc4en3vcpvi"
      },
      "source": [
        "Ahora encontremos qué le interesa al Dr. Garzón que no le interesa a la Dra. Maldonado. Es decir la **diferencia de conjuntos**:"
      ]
    },
    {
      "cell_type": "code",
      "metadata": {
        "colab": {
          "base_uri": "https://localhost:8080/"
        },
        "id": "rZVn_QWscpVC",
        "outputId": "b7ace69e-7386-4eb1-acf7-e46b9a17c707"
      },
      "source": [
        "omar_honorio_garzon_intereses - ana_clementina_maldonado_intereses"
      ],
      "execution_count": null,
      "outputs": [
        {
          "output_type": "execute_result",
          "data": {
            "text/plain": [
              "{'teoría de números', 'topología'}"
            ]
          },
          "metadata": {},
          "execution_count": 10
        }
      ]
    },
    {
      "cell_type": "code",
      "metadata": {
        "colab": {
          "base_uri": "https://localhost:8080/"
        },
        "id": "4Lb4AmAMdP0E",
        "outputId": "d5419f7e-b442-4d4d-9477-a7347cf94547"
      },
      "source": [
        "## Invirtiendo papeles\n",
        "ana_clementina_maldonado_intereses - omar_honorio_garzon_intereses"
      ],
      "execution_count": null,
      "outputs": [
        {
          "output_type": "execute_result",
          "data": {
            "text/plain": [
              "{'economía laboral', 'estadística', 'literatura medieval'}"
            ]
          },
          "metadata": {},
          "execution_count": 11
        }
      ]
    },
    {
      "cell_type": "markdown",
      "metadata": {
        "id": "55P8ks6Zd7i1"
      },
      "source": [
        "Ahora, sabemos que la Dr. Maldonado está interesada en la economía laboral, la literatura medieval y la estadística, mientras que la Dr Garzón no. Y sabemos que el Dr. Garzón está interesado en la teoría de números y la topología, mientras que el Dr. Maldonado no. Por tanto, el conjunto de todos los intereses que no son comunes entre esos dos compañeros es:\n",
        "\n",
        "* `economía laboral`\n",
        "* `literatura medieval`\n",
        "* `estadística`\n",
        "* `teoría de números`\n",
        "* `topología`\n",
        "\n",
        "Esto se llama **diferencia simétrica** entre los dos conjuntos. Es el resultado de unir ambos conjuntos de diferencias. \n",
        "\n",
        "Usamos un signo de intercalación, `^`  como operador."
      ]
    },
    {
      "cell_type": "code",
      "metadata": {
        "colab": {
          "base_uri": "https://localhost:8080/"
        },
        "id": "Qo2kVBhWfF56",
        "outputId": "2ce7dca2-a654-4b32-fb7c-428bca4d8c44"
      },
      "source": [
        "omar_honorio_garzon_intereses ^ ana_clementina_maldonado_intereses"
      ],
      "execution_count": null,
      "outputs": [
        {
          "output_type": "execute_result",
          "data": {
            "text/plain": [
              "{'economía laboral',\n",
              " 'estadística',\n",
              " 'literatura medieval',\n",
              " 'teoría de números',\n",
              " 'topología'}"
            ]
          },
          "metadata": {},
          "execution_count": 12
        }
      ]
    },
    {
      "cell_type": "code",
      "source": [
        "acsa_gisell_trujillo_intereses ^ ana_clementina_maldonado_intereses"
      ],
      "metadata": {
        "colab": {
          "base_uri": "https://localhost:8080/"
        },
        "id": "D4S-9GgNa7kN",
        "outputId": "d3f3d3f3-14ce-4f5e-c105-eae2e8a67612"
      },
      "execution_count": null,
      "outputs": [
        {
          "output_type": "execute_result",
          "data": {
            "text/plain": [
              "{'desarrollo de software',\n",
              " 'economía laboral',\n",
              " 'literatura medieval',\n",
              " 'teoría de números'}"
            ]
          },
          "metadata": {},
          "execution_count": 13
        }
      ]
    },
    {
      "cell_type": "markdown",
      "metadata": {
        "id": "fQjcKkwmfaw9"
      },
      "source": [
        "Veamos ahora cuántos intereses tiene cada académico en común con los demás académicos:"
      ]
    },
    {
      "cell_type": "code",
      "metadata": {
        "id": "ed8ulMUYfaNQ",
        "colab": {
          "base_uri": "https://localhost:8080/"
        },
        "outputId": "a426342d-f75c-4a0d-98cb-0a967e5f7698"
      },
      "source": [
        "## Intereses en común entre todos los aspirantes.\n",
        "\n",
        "om_am = (omar_honorio_garzon_intereses & ana_clementina_maldonado_intereses)\n",
        "print(\"Dr. Garzón y Dra. Maldonado:\", len(om_am))\n",
        "\n",
        "om_at = (omar_honorio_garzon_intereses & acsa_gisell_trujillo_intereses)\n",
        "print(\"Dr. Garzón y Dra. Trujillo:\", len(om_at))\n",
        "\n",
        "om_yd = (omar_honorio_garzon_intereses & yerson_ferney_daza_intereses)\n",
        "print(\"Dr. Garzón y Dr. Daza:\", len(om_yd))\n",
        "\n",
        "am_at = (ana_clementina_maldonado_intereses & acsa_gisell_trujillo_intereses)\n",
        "print(\"Dra. Maldonado y  Dra. Trujillo:\", len(am_at))\n",
        "\n",
        "am_yd = (ana_clementina_maldonado_intereses & yerson_ferney_daza_intereses)\n",
        "print(\"Dra. Maldonado y Dr. Daza:\", len(am_yd))\n",
        "\n",
        "at_yd = (acsa_gisell_trujillo_intereses & yerson_ferney_daza_intereses)\n",
        "print(\"Dra. Trujillo y Dr. Daza:\", len(at_yd))"
      ],
      "execution_count": null,
      "outputs": [
        {
          "output_type": "stream",
          "name": "stdout",
          "text": [
            "Dr. Garzón y Dra. Maldonado: 1\n",
            "Dr. Garzón y Dra. Trujillo: 2\n",
            "Dr. Garzón y Dr. Daza: 0\n",
            "Dra. Maldonado y  Dra. Trujillo: 2\n",
            "Dra. Maldonado y Dr. Daza: 0\n",
            "Dra. Trujillo y Dr. Daza: 0\n"
          ]
        }
      ]
    },
    {
      "cell_type": "markdown",
      "metadata": {
        "id": "E2hSCD0OiEsW"
      },
      "source": [
        "El conjunto de todos los intereses que informaron los aspirantes es la **unión** de los conjuntos, es decir, el conjunto que incluye todos los elementos que están en cualquiera de los conjuntos.\n",
        "\n",
        "El código para obtener el conjunto donde están todos los intereses de los 4 aspirantes es la unión de conjuntos, se utiliza una barra vertical, `|`, como el operador."
      ]
    },
    {
      "cell_type": "code",
      "metadata": {
        "id": "FGeZcp9Aibsd",
        "colab": {
          "base_uri": "https://localhost:8080/"
        },
        "outputId": "0551dadf-6a08-425f-89d0-7b731bb554c2"
      },
      "source": [
        "omar_honorio_garzon_intereses|ana_clementina_maldonado_intereses|acsa_gisell_trujillo_intereses|yerson_ferney_daza_intereses"
      ],
      "execution_count": null,
      "outputs": [
        {
          "output_type": "execute_result",
          "data": {
            "text/plain": [
              "{'computación cuántica',\n",
              " 'desarrollo de software',\n",
              " 'economía laboral',\n",
              " 'estadística',\n",
              " 'literatura medieval',\n",
              " 'matemáticas aplicadas',\n",
              " 'mecánica cuántica',\n",
              " 'relatividad general',\n",
              " 'teoría de números',\n",
              " 'topología'}"
            ]
          },
          "metadata": {},
          "execution_count": 15
        }
      ]
    },
    {
      "cell_type": "markdown",
      "metadata": {
        "id": "KjzeHAHZjaDN"
      },
      "source": [
        "## Detalles de contacto.\n",
        "\n",
        "Se pidió a los solicitantes que proporcionaran sus números de teléfono y correos electrónicos *en orden de prioridad*, lo que significa que los conjuntos no serían suficientes para codificar toda la información que queremos conservar (los conjuntos ignoran el orden por completo). Una opción es usar una **lista** en su lugar.\n",
        "\n",
        "Una lista se crea como un conjunto, con la diferencia de que en lugar de llaves (`{` y `}`), usamos corchetes (`[` y `]`). Se accede a los elementos de una lista indicando su posición numérica en la lista, *comenzando desde cero* (¡no desde uno!). Por lo tanto, para obtener el segundo elemento de la siguiente lista, escribiríamos:"
      ]
    },
    {
      "cell_type": "code",
      "metadata": {
        "id": "Nxun-D93jwc4",
        "colab": {
          "base_uri": "https://localhost:8080/",
          "height": 35
        },
        "outputId": "5cc0a8fc-6a91-4e6a-a293-a75a83f73d49"
      },
      "source": [
        "mi_lista = [\"Uno\", \"Dos\", \"Tres\", \"Cuatro\", \"Cuatro\"]\n",
        "mi_lista[1] ## Llamar la posición 2 de la lista."
      ],
      "execution_count": null,
      "outputs": [
        {
          "output_type": "execute_result",
          "data": {
            "text/plain": [
              "'Dos'"
            ],
            "application/vnd.google.colaboratory.intrinsic+json": {
              "type": "string"
            }
          },
          "metadata": {},
          "execution_count": 20
        }
      ]
    },
    {
      "cell_type": "code",
      "metadata": {
        "id": "LfKcIg3J27ZD",
        "colab": {
          "base_uri": "https://localhost:8080/",
          "height": 35
        },
        "outputId": "410ef426-374d-486f-daba-49ba44ab3311"
      },
      "source": [
        "mi_lista[0] ## Llamar la posición 1 de la lista."
      ],
      "execution_count": null,
      "outputs": [
        {
          "output_type": "execute_result",
          "data": {
            "text/plain": [
              "'Uno'"
            ],
            "application/vnd.google.colaboratory.intrinsic+json": {
              "type": "string"
            }
          },
          "metadata": {},
          "execution_count": 21
        }
      ]
    },
    {
      "cell_type": "code",
      "metadata": {
        "id": "D2Y8PiiXjZFU",
        "colab": {
          "base_uri": "https://localhost:8080/"
        },
        "outputId": "e6d8d01b-bccc-461b-b5b9-a1090083ad13"
      },
      "source": [
        "## No importa si está repetido el valor.\n",
        "mi_lista"
      ],
      "execution_count": null,
      "outputs": [
        {
          "output_type": "execute_result",
          "data": {
            "text/plain": [
              "['Uno', 'Dos', 'Tres', 'Cuatro', 'Cuatro']"
            ]
          },
          "metadata": {},
          "execution_count": 22
        }
      ]
    },
    {
      "cell_type": "code",
      "metadata": {
        "id": "fepE7CH7kOnO",
        "colab": {
          "base_uri": "https://localhost:8080/"
        },
        "outputId": "a6d14fb2-36aa-434b-c350-903e3dc47fa0"
      },
      "source": [
        "## Elementos en las posiciones 1,2 y 3 (4 no incluido).\n",
        "mi_lista[1:4]"
      ],
      "execution_count": null,
      "outputs": [
        {
          "output_type": "execute_result",
          "data": {
            "text/plain": [
              "['Dos', 'Tres', 'Cuatro']"
            ]
          },
          "metadata": {},
          "execution_count": 23
        }
      ]
    },
    {
      "cell_type": "markdown",
      "metadata": {
        "id": "QRSSaNcnk4XM"
      },
      "source": [
        "Estos son los datos de contacto de los cuatro académicos:\n",
        "\n",
        "* **Dr. Omar Honorio Garzón**:\n",
        "    - Teléfonos: +1 978-385-3123, +1 610-684-1514\n",
        "    - Email: omarhono@ukk.edu, omar_honorio_garzon@gmail.com\n",
        "* **Dr. Ana Clemetina Maldonado**:\n",
        "    - Teléfonos: +1 503-831-5725, +1 530-832-3841\n",
        "    - Email: ana@mij.edu, anacle@outlook.com\n",
        "* **Dr. Acsa Gisell Trujillo**:\n",
        "    - Teléfonos: +44 07872-179187, +44 01279-877139\n",
        "    - Email: acsa_truillo@upn.ac.uk, axita_giss@yahoo.co.uk\n",
        "* **Dr. Yerson Ferney Daza**:\n",
        "    - Teléfonos: +61 (08)87150531, +61 (08)90881262\n",
        "    - Email: yerson.daza@uput.edu.au, fercho_daza@gmail.com"
      ]
    },
    {
      "cell_type": "code",
      "metadata": {
        "id": "S7BD-D0VmQ9A",
        "colab": {
          "base_uri": "https://localhost:8080/"
        },
        "outputId": "f6b5e400-87bd-4139-c21f-c92ad62b455f"
      },
      "source": [
        "omar_honorio_garzon_telefonos = [\"+1 978-385-3123\", \"+1 610-684-1514\"]\n",
        "omar_honorio_garzon_telefonos"
      ],
      "execution_count": null,
      "outputs": [
        {
          "output_type": "execute_result",
          "data": {
            "text/plain": [
              "['+1 978-385-3123', '+1 610-684-1514']"
            ]
          },
          "metadata": {},
          "execution_count": 18
        }
      ]
    },
    {
      "cell_type": "markdown",
      "metadata": {
        "id": "4e9HHYPHm3s-"
      },
      "source": [
        "Podemos acceder a su número de teléfono preferido usando el `0` **índice posicional** (el primer elemento de esta lista):"
      ]
    },
    {
      "cell_type": "code",
      "metadata": {
        "id": "fAJ8GtxrmwKz",
        "colab": {
          "base_uri": "https://localhost:8080/",
          "height": 35
        },
        "outputId": "95d3d2be-03ba-48e4-995e-d1e47616026c"
      },
      "source": [
        "omar_honorio_garzon_telefonos[1]"
      ],
      "execution_count": null,
      "outputs": [
        {
          "output_type": "execute_result",
          "data": {
            "text/plain": [
              "'+1 610-684-1514'"
            ],
            "application/vnd.google.colaboratory.intrinsic+json": {
              "type": "string"
            }
          },
          "metadata": {},
          "execution_count": 19
        }
      ]
    },
    {
      "cell_type": "code",
      "metadata": {
        "id": "e13dcCzemwAD",
        "colab": {
          "base_uri": "https://localhost:8080/"
        },
        "outputId": "d81a59fb-4ab4-4706-da7a-311e053bc58d"
      },
      "source": [
        "### emails\n",
        "omar_honorio_garzon_emails = [\"omarhono@ukk.edu\" , \"omar_honorio_grazon@gmail.com\"]\n",
        "omar_honorio_garzon_emails"
      ],
      "execution_count": null,
      "outputs": [
        {
          "output_type": "execute_result",
          "data": {
            "text/plain": [
              "['omarhono@ukk.edu', 'omar_honorio_grazon@gmail.com']"
            ]
          },
          "metadata": {},
          "execution_count": 20
        }
      ]
    },
    {
      "cell_type": "markdown",
      "metadata": {
        "id": "A9efqEWJs27r"
      },
      "source": [
        "## Ejercicio 1\n",
        "\n",
        "Convierta los números de teléfono de la Dr. Ana Clemetina Maldonado a una lista de Python y acceda a su segunda opción de número de teléfono."
      ]
    },
    {
      "cell_type": "code",
      "metadata": {
        "id": "eDOXvXpYtJvK",
        "colab": {
          "base_uri": "https://localhost:8080/",
          "height": 35
        },
        "outputId": "c7900386-4e34-4e76-9f3f-1b0a96f3f42f"
      },
      "source": [
        "## Aquí su código\n",
        "ana_clementina_maldonado_telefonos = [\"+1 503-831-5725\", \"+1 530-832-3841\"]\n",
        "ana_clementina_maldonado_telefonos[1]"
      ],
      "execution_count": null,
      "outputs": [
        {
          "output_type": "execute_result",
          "data": {
            "text/plain": [
              "'+1 530-832-3841'"
            ],
            "application/vnd.google.colaboratory.intrinsic+json": {
              "type": "string"
            }
          },
          "metadata": {},
          "execution_count": 21
        }
      ]
    },
    {
      "cell_type": "code",
      "source": [
        "len(ana_clementina_maldonado_telefonos)"
      ],
      "metadata": {
        "colab": {
          "base_uri": "https://localhost:8080/"
        },
        "id": "SWUD9zZkCtEN",
        "outputId": "5b45e362-bfe3-4e54-b75b-8f1468f13f37"
      },
      "execution_count": null,
      "outputs": [
        {
          "output_type": "execute_result",
          "data": {
            "text/plain": [
              "2"
            ]
          },
          "metadata": {},
          "execution_count": 22
        }
      ]
    },
    {
      "cell_type": "markdown",
      "metadata": {
        "id": "uZm7XFWftz39"
      },
      "source": [
        "Una forma alternativa de recuperar la segunda posición de número de teléfono haría uso del hecho de que es el último elemento de la lista. En Python, puede tener **índices negativos** que funcionan como un índice ordinario, solo comenzando de derecha a izquierda. Asi:"
      ]
    },
    {
      "cell_type": "code",
      "metadata": {
        "id": "Rmru88_huIHB",
        "colab": {
          "base_uri": "https://localhost:8080/",
          "height": 35
        },
        "outputId": "6d1034a3-25b9-456f-d7fc-5b5be44bd820"
      },
      "source": [
        "# LA última posición de la lista se extrae con [-1]\n",
        "ana_clementina_maldonado_telefonos[-1]"
      ],
      "execution_count": null,
      "outputs": [
        {
          "output_type": "execute_result",
          "data": {
            "text/plain": [
              "'+1 530-832-3841'"
            ],
            "application/vnd.google.colaboratory.intrinsic+json": {
              "type": "string"
            }
          },
          "metadata": {},
          "execution_count": 23
        }
      ]
    },
    {
      "cell_type": "markdown",
      "metadata": {
        "id": "N3aGut25uQhS"
      },
      "source": [
        "Dará el mismo resultado. Si quisiera obtener el primer elemento de la lista."
      ]
    },
    {
      "cell_type": "code",
      "source": [
        "#  0  1   2   3   4\n",
        "# -5 -4  -3  -2  -1 "
      ],
      "metadata": {
        "id": "9_PYJdpADSxh"
      },
      "execution_count": null,
      "outputs": []
    },
    {
      "cell_type": "code",
      "metadata": {
        "id": "Eqo_luviuWdT",
        "colab": {
          "base_uri": "https://localhost:8080/",
          "height": 35
        },
        "outputId": "5468ee90-bcce-4c31-8c72-c03ca9494680"
      },
      "source": [
        "ana_clementina_maldonado_telefonos[-1]"
      ],
      "execution_count": null,
      "outputs": [
        {
          "output_type": "execute_result",
          "data": {
            "text/plain": [
              "'+1 530-832-3841'"
            ],
            "application/vnd.google.colaboratory.intrinsic+json": {
              "type": "string"
            }
          },
          "metadata": {},
          "execution_count": 25
        }
      ]
    },
    {
      "cell_type": "code",
      "metadata": {
        "id": "ukO3EQG5ulCl"
      },
      "source": [
        "ana_clementina_maldonado_emails = [\"ana@mij.edu\", \"anacle@outlook.com\"]\n",
        "acsa_gisell_trujillo_telefonos = [\"+44 07872-179187\", \"+44 01279-877139\"]\n",
        "acsa_gisell_trujillo_emails = [\"acsa_truillo@upn.ac.uk\", \"axita_giss@yahoo.co.uk\"]\n",
        "yerson_ferney_daza_telefonos = [\"+61 (08)87150531\", \"+61 (08)90881262\"]\n",
        "yerson_ferney_daza_emails = [\"yerson.daza@uput.edu.au\", \"fercho_daza@gmail.com\"]"
      ],
      "execution_count": null,
      "outputs": []
    },
    {
      "cell_type": "markdown",
      "metadata": {
        "id": "eU6nKEO3wN5t"
      },
      "source": [
        "El siguiente paso será consolidar todas estas listas en un solo directorio. Para esto, puede **anidarlos** dentro de otra lista, creando así una *lista de listas* para cada persona."
      ]
    },
    {
      "cell_type": "code",
      "metadata": {
        "id": "7Rpt6NEwwWkI",
        "colab": {
          "base_uri": "https://localhost:8080/"
        },
        "outputId": "b708bbc9-3161-40a5-d210-868a920e5ce9"
      },
      "source": [
        "omar_garzon = [omar_honorio_garzon_telefonos, omar_honorio_garzon_emails, omar_honorio_garzon_intereses]\n",
        "ana_maldonado = [ana_clementina_maldonado_telefonos,ana_clementina_maldonado_emails,ana_clementina_maldonado_intereses]\n",
        "acsa_trujillo = [acsa_gisell_trujillo_telefonos,acsa_gisell_trujillo_emails,acsa_gisell_trujillo_intereses]\n",
        "yerson_daza = [yerson_ferney_daza_telefonos,yerson_ferney_daza_emails,yerson_ferney_daza_intereses]\n",
        "\n",
        "# Inspeccionando a ana_maldonado\n",
        "ana_maldonado"
      ],
      "execution_count": null,
      "outputs": [
        {
          "output_type": "execute_result",
          "data": {
            "text/plain": [
              "[['+1 503-831-5725', '+1 530-832-3841'],\n",
              " ['ana@mij.edu', 'anacle@outlook.com'],\n",
              " {'economía laboral',\n",
              "  'estadística',\n",
              "  'literatura medieval',\n",
              "  'matemáticas aplicadas'}]"
            ]
          },
          "metadata": {},
          "execution_count": 27
        }
      ]
    },
    {
      "cell_type": "markdown",
      "metadata": {
        "id": "iUmcmQ_IxY8I"
      },
      "source": [
        "Cuando inspeccionamos a `ana_maldonado`, vemos que tenemos una lista,`ana_maldonado`, que tiene otras dos listas adentro, una correspondiente a sus números de teléfono y otra correspondiente a sus correos electrónicos. Estas son listas anidadas. El tercer elemento de la lista es un conjunto: el conjunto de intereses que creamos antes.\n",
        "\n",
        "Pero ahora podemos ir aún más lejos y anidar estas listas nuevamente para crear nuestro directorio unificado:"
      ]
    },
    {
      "cell_type": "code",
      "metadata": {
        "id": "ALXb4FJrxtR1",
        "colab": {
          "base_uri": "https://localhost:8080/"
        },
        "outputId": "a15d8d4d-6c6b-454a-fda8-7e91be015d03"
      },
      "source": [
        "# Lista de listas que tiene listas por dentro.\n",
        "directorio = [omar_garzon, ana_maldonado, acsa_trujillo, yerson_daza]\n",
        "directorio"
      ],
      "execution_count": null,
      "outputs": [
        {
          "output_type": "execute_result",
          "data": {
            "text/plain": [
              "[[['+1 978-385-3123', '+1 610-684-1514'],\n",
              "  ['omarhono@ukk.edu', 'omar_honorio_grazon@gmail.com'],\n",
              "  {'matemáticas aplicadas', 'teoría de números', 'topología'}],\n",
              " [['+1 503-831-5725', '+1 530-832-3841'],\n",
              "  ['ana@mij.edu', 'anacle@outlook.com'],\n",
              "  {'economía laboral',\n",
              "   'estadística',\n",
              "   'literatura medieval',\n",
              "   'matemáticas aplicadas'}],\n",
              " [['+44 07872-179187', '+44 01279-877139'],\n",
              "  ['acsa_truillo@upn.ac.uk', 'axita_giss@yahoo.co.uk'],\n",
              "  {'desarrollo de software',\n",
              "   'estadística',\n",
              "   'matemáticas aplicadas',\n",
              "   'teoría de números'}],\n",
              " [['+61 (08)87150531', '+61 (08)90881262'],\n",
              "  ['yerson.daza@uput.edu.au', 'fercho_daza@gmail.com'],\n",
              "  {'computación cuántica', 'mecánica cuántica', 'relatividad general'}]]"
            ]
          },
          "metadata": {},
          "execution_count": 35
        }
      ]
    },
    {
      "cell_type": "markdown",
      "metadata": {
        "id": "u49Kz8i_yQBB"
      },
      "source": [
        "Si queremos mostrar el correo electrónico principal del Dr. Yerson Ferney Daza. Tendríamos que lograr esto mediante la indexación posicional. Primero, sabemos que él es el último elemento del directorio (por lo tanto, índice `3`, o` -1` si desea utilizar la indexación negativa), luego vemos que los emails son el segundo elemento de su lista de datos personales (índice `1`), y finalmente notamos que los emails principales son los primeros en la lista de emails. La forma de acceder a este elemento es:"
      ]
    },
    {
      "cell_type": "code",
      "metadata": {
        "id": "zXgH0sFqy4xo",
        "colab": {
          "base_uri": "https://localhost:8080/",
          "height": 35
        },
        "outputId": "009d0735-a85b-4048-ef9e-864dcbe7b9fe"
      },
      "source": [
        "directorio[3][1][0]"
      ],
      "execution_count": null,
      "outputs": [
        {
          "output_type": "execute_result",
          "data": {
            "application/vnd.google.colaboratory.intrinsic+json": {
              "type": "string"
            },
            "text/plain": [
              "'yerson.daza@uput.edu.au'"
            ]
          },
          "metadata": {},
          "execution_count": 27
        }
      ]
    },
    {
      "cell_type": "markdown",
      "metadata": {
        "id": "bu8vZp9Fy__x"
      },
      "source": [
        "Observe que fuimos desde la lista más externa (la lista que anida todo lo demás) y trabajando hacia adentro, creando múltiples índices posicionales a lo largo del camino.\n",
        "\n",
        "**Nota**. Hay otro tipo de colección de Python llamado **tupla**. Las tuplas son muy similares a las listas, con la diferencia que son inmutables. Si necesita modificar el contenido de una tupla, tendrá que volver a escribirla desde cero. Esta propiedad es útil a veces, pero las listas son generalmente la opción preferida en la mayoría de los casos. Para crear una **tupla**, usa paréntesis ordinarios:"
      ]
    },
    {
      "cell_type": "code",
      "metadata": {
        "id": "RxZ97MJGzp_T",
        "colab": {
          "base_uri": "https://localhost:8080/"
        },
        "outputId": "5ede5d2a-eb8c-4eba-e2ac-f2042b81067a"
      },
      "source": [
        "mi_tuple = (\"Uno\", \"Dos\", \"Tres\", \"Cuatro\", \"Cuatro\")\n",
        "mi_tuple"
      ],
      "execution_count": null,
      "outputs": [
        {
          "output_type": "execute_result",
          "data": {
            "text/plain": [
              "('Uno', 'Dos', 'Tres', 'Cuatro', 'Cuatro')"
            ]
          },
          "metadata": {},
          "execution_count": 28
        }
      ]
    },
    {
      "cell_type": "markdown",
      "metadata": {
        "id": "Uc5cewh7z576"
      },
      "source": [
        "---\n",
        "## Hacer que el directorio sea más fácil de usar\n",
        "---\n",
        "La lista de `directorio` es adecuada: tiene todos los datos que necesitamos y es fácilmente accesible. Sin embargo, tiene la desventaja de que si quieres recuperar un email o teléfono en particular, o el conjunto de intereses de una persona, tienes que estar muy familiarizado con la estructura de la lista y escribir muy meticulosamente para no pasar mal número de índice. Por ejemplo, al extraer correo del Dr. Yerson Ferney Daza, se tuvo que pasar correctamente tres índices, dejando muchas oportunidades de error.\n",
        "\n",
        "Esta dificultad se puede superar utilizando **diccionarios**. Los diccionarios son colecciones en las que puede asignar **claves** a sus elementos, de modo que en lugar de acceder a los elementos mediante un índice posicional, simplemente le pide a Python que le proporcione el elemento (llamado **valor**) que corresponde a una clave dada. Los diccionarios no pueden tener claves duplicadas, pero puede tener valores duplicados siempre que tengan claves diferentes. Al igual que las listas, los diccionarios son **mutables** (es decir, puede modificar su contenido sin tener que volver a crear el diccionario), pero son similares a los conjuntos en que no conservan el orden de los elementos."
      ]
    },
    {
      "cell_type": "code",
      "metadata": {
        "id": "JVDZFNUX0rk8"
      },
      "source": [
        "mi_dict = {\"Uno\":\"Este es el número 1\",\n",
        "           \"Dos\":2,\n",
        "           \"Cuatro\":4,\n",
        "           \"Otro cuatro\":4,\n",
        "           \"Three\":[\"Esta\", \"es\", \"una\", \"lista\", \"de\", \"strings\"],\n",
        "}"
      ],
      "execution_count": null,
      "outputs": []
    },
    {
      "cell_type": "code",
      "metadata": {
        "colab": {
          "base_uri": "https://localhost:8080/"
        },
        "id": "LvNR04bg0-j0",
        "outputId": "3ff177e0-7698-4135-b0f3-b048a043f1ae"
      },
      "source": [
        "## Valor de la key \"Uno\"\n",
        "mi_dict[\"Cinco\"] = \"Nuevo elemento del diccionario\" \n",
        "mi_dict"
      ],
      "execution_count": null,
      "outputs": [
        {
          "output_type": "execute_result",
          "data": {
            "text/plain": [
              "{'Cinco': 'Nuevo elemento del diccionario',\n",
              " 'Cuatro': 4,\n",
              " 'Dos': 2,\n",
              " 'Otro cuatro': 4,\n",
              " 'Three': ['Esta', 'es', 'una', 'lista', 'de', 'strings'],\n",
              " 'Uno': 'Este es el número 1'}"
            ]
          },
          "metadata": {},
          "execution_count": 30
        }
      ]
    },
    {
      "cell_type": "code",
      "metadata": {
        "id": "F5atnPhV1b4-",
        "colab": {
          "base_uri": "https://localhost:8080/"
        },
        "outputId": "ca12a7f7-f3c6-4172-80a7-a4d5cc2518bc"
      },
      "source": [
        "omar_garzon = [omar_honorio_garzon_telefonos, omar_honorio_garzon_emails, omar_honorio_garzon_intereses]\n",
        "ana_maldonado = [ana_clementina_maldonado_telefonos,ana_clementina_maldonado_emails,ana_clementina_maldonado_intereses]\n",
        "acsa_trujillo = [acsa_gisell_trujillo_telefonos,acsa_gisell_trujillo_emails,acsa_gisell_trujillo_intereses]\n",
        "yerson_daza = [yerson_ferney_daza_telefonos,yerson_ferney_daza_emails,yerson_ferney_daza_intereses]\n",
        "# Inspeccionando a ana_maldonado \n",
        "ana_maldonado"
      ],
      "execution_count": null,
      "outputs": [
        {
          "output_type": "execute_result",
          "data": {
            "text/plain": [
              "[['+1 503-831-5725', '+1 530-832-3841'],\n",
              " ['ana@mij.edu', 'anacle@outlook.com'],\n",
              " {'economía laboral',\n",
              "  'estadística',\n",
              "  'literatura medieval',\n",
              "  'matemáticas aplicadas'}]"
            ]
          },
          "metadata": {},
          "execution_count": 31
        }
      ]
    },
    {
      "cell_type": "code",
      "metadata": {
        "id": "iqzktDpg1T2M"
      },
      "source": [
        "directorio_dict ={\n",
        "    \"omar_garzon\":{\n",
        "        \"telefonos\":omar_honorio_garzon_telefonos,\n",
        "        \"emails\":omar_honorio_garzon_emails,\n",
        "        \"intereses\":omar_honorio_garzon_intereses,\n",
        "    },\n",
        "    \"ana_maldonado\":{ \n",
        "        \"telefonos\":ana_clementina_maldonado_telefonos,\n",
        "        \"emails\":ana_clementina_maldonado_emails,\n",
        "        \"intereses\":ana_clementina_maldonado_intereses,\n",
        "    },\n",
        "    \"acsa_trujillo\":{\n",
        "        \"telefonos\":acsa_gisell_trujillo_telefonos,\n",
        "        \"emails\":acsa_gisell_trujillo_emails,\n",
        "        \"intereses\":acsa_gisell_trujillo_intereses,\n",
        "    },\n",
        "    \"yerson_daza\":{\n",
        "        \"telefonos\":yerson_ferney_daza_telefonos,\n",
        "        \"emails\":yerson_ferney_daza_emails,\n",
        "        \"intereses\":yerson_ferney_daza_intereses,\n",
        "    },\n",
        "}"
      ],
      "execution_count": null,
      "outputs": []
    },
    {
      "cell_type": "code",
      "source": [
        "directorio_dict"
      ],
      "metadata": {
        "colab": {
          "base_uri": "https://localhost:8080/"
        },
        "id": "snj8SkmBNOXr",
        "outputId": "be722c14-33b1-4d5c-9a4b-741e73a02503"
      },
      "execution_count": null,
      "outputs": [
        {
          "output_type": "execute_result",
          "data": {
            "text/plain": [
              "{'omar_garzon': {'telefonos': ['+1 978-385-3123', '+1 610-684-1514'],\n",
              "  'emails': ['omarhono@ukk.edu', 'omar_honorio_grazon@gmail.com'],\n",
              "  'intereses': {'matemáticas aplicadas', 'teoría de números', 'topología'}},\n",
              " 'ana_maldonado': {'telefonos': ['+1 503-831-5725', '+1 530-832-3841'],\n",
              "  'emails': ['ana@mij.edu', 'anacle@outlook.com'],\n",
              "  'intereses': {'economía laboral',\n",
              "   'estadística',\n",
              "   'literatura medieval',\n",
              "   'matemáticas aplicadas'}},\n",
              " 'acsa_trujillo': {'telefonos': ['+44 07872-179187', '+44 01279-877139'],\n",
              "  'emails': ['acsa_truillo@upn.ac.uk', 'axita_giss@yahoo.co.uk'],\n",
              "  'intereses': {'desarrollo de software',\n",
              "   'estadística',\n",
              "   'matemáticas aplicadas',\n",
              "   'teoría de números'}},\n",
              " 'yerson_daza': {'telefonos': ['+61 (08)87150531', '+61 (08)90881262'],\n",
              "  'emails': ['yerson.daza@uput.edu.au', 'fercho_daza@gmail.com'],\n",
              "  'intereses': {'computación cuántica',\n",
              "   'mecánica cuántica',\n",
              "   'relatividad general'}}}"
            ]
          },
          "metadata": {},
          "execution_count": 30
        }
      ]
    },
    {
      "cell_type": "markdown",
      "metadata": {
        "id": "PiEf6kAJ25oL"
      },
      "source": [
        "Es mucho más fácil mostrar el email principal del Dr. Yerson Ferney Daza. Primero determinamos la clave de los datos de contacto de la persona (`yerson_daza`), luego encontramos la clave de los datos del correo electrónico (`emails`) y luego accedemos al índice 0 de la lista resultante (codificamos `emails` como un anidado de lista dentro del diccionario, para preservar el orden de los elementos):"
      ]
    },
    {
      "cell_type": "code",
      "metadata": {
        "id": "1qPTEz3N2xiw"
      },
      "source": [
        "directorio_dict[\"yerson_daza\"][\"emails\"][0]"
      ],
      "execution_count": null,
      "outputs": []
    },
    {
      "cell_type": "code",
      "source": [
        "directorio_dict[\"omar_garzon\"][\"intereses\"]"
      ],
      "metadata": {
        "colab": {
          "base_uri": "https://localhost:8080/"
        },
        "id": "vIlIpCT8CuTu",
        "outputId": "09e5338d-ddb4-496c-9c9e-f641c6960935"
      },
      "execution_count": null,
      "outputs": [
        {
          "output_type": "execute_result",
          "data": {
            "text/plain": [
              "{'matemáticas aplicadas', 'teoría de números', 'topología'}"
            ]
          },
          "metadata": {},
          "execution_count": 34
        }
      ]
    },
    {
      "cell_type": "markdown",
      "metadata": {
        "id": "xZ2X8S2n3hgJ"
      },
      "source": [
        "### Ejercicio 2\n",
        "\n",
        "Usando `directorio_dict`, muestre los intereses del Dra. Acsa Gisell Trujillo.¿Qué tipo de estructura de datos es la salida resultante?"
      ]
    },
    {
      "cell_type": "code",
      "metadata": {
        "id": "g8SXxeiJ-vdH",
        "colab": {
          "base_uri": "https://localhost:8080/"
        },
        "outputId": "e2316a01-7d61-4ce9-c45a-2d2f66b1e105"
      },
      "source": [
        "## Su código acá\n",
        "directorio_dict[\"acsa_trujillo\"][\"intereses\"]"
      ],
      "execution_count": null,
      "outputs": [
        {
          "output_type": "execute_result",
          "data": {
            "text/plain": [
              "{'desarrollo de software',\n",
              " 'estadística',\n",
              " 'matemáticas aplicadas',\n",
              " 'teoría de números'}"
            ]
          },
          "metadata": {},
          "execution_count": 35
        }
      ]
    },
    {
      "cell_type": "code",
      "metadata": {
        "id": "4TTKY0hx_NbO",
        "colab": {
          "base_uri": "https://localhost:8080/"
        },
        "outputId": "b40c118b-703d-4c3c-eaf6-e5bdfddd1994"
      },
      "source": [
        "## Su codigo aca\n",
        "print(type(directorio_dict[\"acsa_trujillo\"][\"intereses\"]))"
      ],
      "execution_count": null,
      "outputs": [
        {
          "output_type": "stream",
          "name": "stdout",
          "text": [
            "<class 'set'>\n"
          ]
        }
      ]
    },
    {
      "cell_type": "code",
      "source": [
        "print(type(directorio_dict[\"yerson_daza\"][\"emails\"][0]))"
      ],
      "metadata": {
        "colab": {
          "base_uri": "https://localhost:8080/"
        },
        "id": "woRAEb7RETXF",
        "outputId": "1ef6fb5a-3c12-49c0-f1a1-8f329976af8c"
      },
      "execution_count": null,
      "outputs": [
        {
          "output_type": "stream",
          "name": "stdout",
          "text": [
            "<class 'str'>\n"
          ]
        }
      ]
    },
    {
      "cell_type": "markdown",
      "metadata": {
        "id": "un3s8p2Bnz50"
      },
      "source": [
        "---\n",
        "## Comentarios importantes.\n",
        "---\n",
        "\n",
        "En este lectura, se aprendió sobre algunas estructuras de datos básicas en Python y propiedades importantes de cada una de esas estructuras de datos:\n",
        "\n",
        "* **Conjuntos**. Si el orden no importa, puede almacenar elementos en conjuntos. Los conjuntos no permiten duplicados y no le permiten acceder a elementos mediante la indexación posicional (es decir, indicando la posición que tiene el elemento en el objeto), porque naturalmente no tienen orden. No puede cambiar los elementos de un conjunto, pero puede agregar elementos nuevos. Puede realizar varios tipos de operaciones utilizando conjuntos, como intersecciones de conjuntos, diferencias de conjuntos y uniones de conjuntos; todos ellos caen dentro de la lógica de conjuntos.\n",
        "\n",
        "* **Listas**. Las listas están ordenadas. Permiten duplicados y le permiten acceder a elementos mediante indexación posicional. Puede eliminar, agregar o modificar elementos en una lista, sin necesidad de crear la lista nuevamente.\n",
        "\n",
        "* **Tuplas**. Son básicamente como listas, con la diferencia de que las tuplas son inmutables. Esto significa que si desea modificar el contenido de una tupla, debe crearla desde cero con los datos modificados.\n",
        "\n",
        "* **Diccionarios**. Los diccionarios actúan como listas (y también son mutables), pero no se accede a los elementos mediante índices posicionales. En su lugar, usa nombres de clave. Los diccionarios no pueden tener claves duplicadas, pero puede tener valores duplicados siempre que tengan claves diferentes. Es importante destacar que, al igual que los conjuntos, los diccionarios *no* conservan el orden de los elementos."
      ]
    },
    {
      "cell_type": "markdown",
      "metadata": {
        "id": "6kvsoY4HoYjQ"
      },
      "source": [
        "---\n",
        "# Resumen\n",
        "---\n",
        "\n",
        "### Métodos con conjuntos.\n",
        "* Inicializando un conjunto: `my_set={13, 47, 56}`\n",
        "* Inicializando un conjunto vacío: `my_set=set()`\n",
        "* Unión: `A|B`\n",
        "* Intersección: `A & B`\n",
        "* Diferencia: `A-B` o `B-A`(esta operación no es [conmutativa](https://en.wikipedia.org/wiki/Commutative_property))\n",
        "* Diferencia simétrica: `A^B`\n",
        "* Prueba de pertenencia: `item in A`\n",
        "* Agregar un elemento a un conjunto: `A.add(item)`\n",
        "* Eliminar un elemento de un conjunto: `A.remove(item)`\n",
        "* Eliminar todos los elementos de un conjunto: `A.clear()`\n",
        "* Devolviendo el tamaño de un conjunto: `len(my_set)`\n",
        "\n",
        "Puede aprovechar el hecho de que los conjuntos no permiten que los duplicados eliminen los duplicados de una lista convirtiéndola en un conjunto y de nuevo en una lista. Por ejemplo, si tiene una lista:\n",
        "\n",
        "~~~ python\n",
        "lista_con_duplicados = [1,2,2,2,3]\n",
        "~~~\n",
        "\n",
        "Puede hacer esto para obtener una lista con los duplicados eliminados:\n",
        "\n",
        "~~~ python\n",
        "lista_con_no_duplicados = list(set(lista_con_duplicados))\n",
        "lista_con_no_duplicados  = [1,2,3]\n",
        "~~~\n",
        "\n",
        "### Métodos con listas.\n",
        "\n",
        "* Creando una lista: `my_list=[1, 2, 2, 3]`\n",
        "* Creando una lista vacía: `my_list=[]`\n",
        "* Agrega un elemento al final de una lista: `my_list.append(item)`\n",
        "* Agregue una lista al final de otra lista: `my_list.extend(another_list)`\n",
        "* Recuperar un elemento de la lista: `my_list[positional_index]`\n",
        "* Recuperar una porción de la lista: `my_list[initial_position: final_position]`\n",
        "* Eliminar un elemento basado en el valor: `my_list.remove(value)`(esto eliminará el primer elemento de la lista que tenga un valor de `value`)\n",
        "* Eliminar un elemento basado en el índice posicional: `del my_list[positional_index]` (también se puede usar con cortes)\n",
        "* Recupere un valor y elimínelo de la lista al mismo tiempo: `my_list.pop([positional_index])`\n",
        "* Eliminar todos los elementos de una lista: `my_list.clear()`\n",
        "* Muestra el índice del primer elemento que tiene un valor dado: `my_list.index(value)`\n",
        "* Cuente el número de veces que aparece un valor en una lista: `my_list.count(value)`\n",
        "* Ordene los elementos de la lista: `my_list.sort()` (para ordenar Z-A, use `my_list.sort (reverse = True)`\n",
        "* Invertir el orden actual de los elementos en una lista: `my_list.reverse()`\n",
        "* Devuelve una copia de la lista: `my_list.copy()`\n",
        "* Devolviendo la longitud de una lista: `len(my_list)`\n",
        "* Prueba de pertenencia: `item in my_list`\n",
        "\n",
        "## Métodos de tupla\n",
        "\n",
        "* Creando una tupla: `my_tuple=(1,2,2,3)`\n",
        "* Creando una tupla vacía: `my_tuple=()`\n",
        "* Creando una tupla con un elemento: `my_tuple=(\"Un elemento \",)` (observe la coma)\n",
        "* Recuperar un elemento de la tupla: `my_tuple[positional_index]`\n",
        "* Recuperar una porción de la tupla: `my_tuple[initial_position:final_position]`\n",
        "* Concatenación de dos tuplas: `tuple1 + tuple2`\n",
        "* Repite una tupla varias veces: `my_tuple*times_to_repeat`\n",
        "* Devolver la longitud de una tupla: `len(my_tuple)`\n",
        "* Prueba de pertenencia: `item in my_tuple`\n",
        "\n",
        "## Métodos de diccionario\n",
        "\n",
        "* Crear un diccionario: `my_dict = {\"key\":\"value\",\"other_key\":\"otro_valor\",}`\n",
        "* Recuperando el valor que corresponde a una clave dada: `my_dict[\"key\"]`. Alternativamente, `my_dict.get(\"key\")`\n",
        "* Eliminar un elemento del diccionario basado en la clave: `del my_dict[\"key\"]`\n",
        "* Lista todas las claves en el diccionario: `list(my_dict)`\n",
        "* Prueba de membresía: `key in my_dict`\n",
        "* Reemplazo/creación de un elemento: `my_dict[\"key\"]= expresión`\n",
        "* Eliminar todos los elementos de un diccionario: `my_dict.clear()`\n",
        "* Devuelve una copia del diccionario: `my_dict.copy()`\n",
        "* Recuperar un valor y eliminarlo del diccionario al mismo tiempo: `my_dict.pop(\"key\")`\n",
        "* Devolviendo la longitud de un diccionario: `len(my_dict)`\n",
        "\n",
        "Puede encontrar más información sobre las estructuras de datos de Python puede acudir a la [documentación.](https://docs.python.org/3/tutorial/datastructures.html)."
      ]
    },
    {
      "cell_type": "markdown",
      "source": [
        "## Attribution\n",
        "\n",
        "Venn0001.svg. Wikimedia Commons. Public Domain. https://commons.wikimedia.org/wiki/File:Venn0001.svg\n",
        "\n",
        "Venn 0000 0001.svg. Wikimedia Commons. Public Domain. https://commons.wikimedia.org/wiki/File:Venn_0000_0001.svg\n",
        "\n",
        "Venn0010.svg. Wikimedia Commons. Public Domain. https://commons.wikimedia.org/wiki/File:Venn0010.svg\n",
        "\n",
        "Venn0110.svg. Wikimedia Commons. Public Domain. https://commons.wikimedia.org/wiki/File:Venn0110.svg\n",
        "\n",
        "Venn0111.svg. Wikimedia Commons. Public Domain. https://commons.wikimedia.org/wiki/File:Venn0111.svg"
      ],
      "metadata": {
        "id": "IEGzj7CZYgBB"
      }
    }
  ]
}