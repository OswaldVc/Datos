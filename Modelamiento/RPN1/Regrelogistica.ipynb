{
  "nbformat": 4,
  "nbformat_minor": 0,
  "metadata": {
    "kernelspec": {
      "display_name": "Python 3",
      "language": "python",
      "name": "python3"
    },
    "language_info": {
      "codemirror_mode": {
        "name": "ipython",
        "version": 3
      },
      "file_extension": ".py",
      "mimetype": "text/x-python",
      "name": "python",
      "nbconvert_exporter": "python",
      "pygments_lexer": "ipython3",
      "version": "3.7.6"
    },
    "colab": {
      "name": "Regrelogistica.ipynb",
      "provenance": [],
      "include_colab_link": true
    }
  },
  "cells": [
    {
      "cell_type": "markdown",
      "metadata": {
        "id": "view-in-github",
        "colab_type": "text"
      },
      "source": [
        "<a href=\"https://colab.research.google.com/github/OswaldVc/Datos/blob/main/Modelamiento/RPN1/Regrelogistica.ipynb\" target=\"_parent\"><img src=\"https://colab.research.google.com/assets/colab-badge.svg\" alt=\"Open In Colab\"/></a>"
      ]
    },
    {
      "cell_type": "markdown",
      "metadata": {
        "id": "_z8kDrEpggTt"
      },
      "source": [
        "# Regresion Logistica\n",
        "\n",
        "la regresión logística es un tipo de análisis de regresión utilizado para predecir el resultado de una variable categórica (una variable que puede adoptar un número limitado de categorías, sobre todo binomiales) en función de las variables independientes o predictoras.  Es decir predecir si una futura compra la hara un hombre o una mujer dependiendo de otras variables como lo son edad, ingresos, horas libres, monto de la ultima compra.\n",
        "\n",
        "\n",
        "Como este responde a un modelo de predicción la base de datos suele dividirse en dos grupos, un primer grupo para entramiento del modelo y un segundo grupo para validacion o preubas del modelo."
      ]
    },
    {
      "cell_type": "code",
      "metadata": {
        "colab": {
          "base_uri": "https://localhost:8080/"
        },
        "id": "r0xI5jeohY_k",
        "outputId": "558cf364-febb-4419-98cc-18bd79845473"
      },
      "source": [
        "## Conentando con google drive.\n",
        "%load_ext autoreload\n",
        "%autoreload 2\n",
        "from google.colab import drive\n",
        "drive.mount('/content/drive')"
      ],
      "execution_count": 4,
      "outputs": [
        {
          "output_type": "stream",
          "name": "stdout",
          "text": [
            "Drive already mounted at /content/drive; to attempt to forcibly remount, call drive.mount(\"/content/drive\", force_remount=True).\n"
          ]
        }
      ]
    },
    {
      "cell_type": "code",
      "metadata": {
        "id": "z-fJmF3mggT2"
      },
      "source": [
        "import statsmodels.api as sm\n",
        "import pandas as pd"
      ],
      "execution_count": 5,
      "outputs": []
    },
    {
      "cell_type": "code",
      "source": [
        "cd /content/drive/MyDrive/1. UNIVERSIDAD CENTRAL/MODELAMIENTO AND SIMULACIÓN/Compartidos/Modelamiento/"
      ],
      "metadata": {
        "colab": {
          "base_uri": "https://localhost:8080/"
        },
        "id": "EZpO6yALtQA_",
        "outputId": "cb75796c-3219-4fed-aa8b-ec6ae570b208"
      },
      "execution_count": 6,
      "outputs": [
        {
          "output_type": "stream",
          "name": "stdout",
          "text": [
            "/content/drive/MyDrive/1. UNIVERSIDAD CENTRAL/MODELAMIENTO AND SIMULACIÓN/Compartidos/Modelamiento\n"
          ]
        }
      ]
    },
    {
      "cell_type": "code",
      "metadata": {
        "id": "LSqXU5p0ggT3"
      },
      "source": [
        "df=pd.read_csv('logit_train1.csv',index_col=0)"
      ],
      "execution_count": 7,
      "outputs": []
    },
    {
      "cell_type": "code",
      "metadata": {
        "id": "mj0PORgQggT3",
        "outputId": "6137c30b-7af5-444c-ef69-81a2e9a96a5e",
        "colab": {
          "base_uri": "https://localhost:8080/",
          "height": 206
        }
      },
      "source": [
        "df.head()"
      ],
      "execution_count": 8,
      "outputs": [
        {
          "output_type": "execute_result",
          "data": {
            "text/plain": [
              "    gmat  gpa  work_experience  admitted\n",
              "16   580  2.7                4         0\n",
              "33   660  3.3                6         1\n",
              "8    740  3.3                5         1\n",
              "38   590  1.7                4         0\n",
              "32   660  4.0                4         1"
            ],
            "text/html": [
              "\n",
              "  <div id=\"df-05e1f907-f229-44fc-b7bf-79e7d718ce7a\">\n",
              "    <div class=\"colab-df-container\">\n",
              "      <div>\n",
              "<style scoped>\n",
              "    .dataframe tbody tr th:only-of-type {\n",
              "        vertical-align: middle;\n",
              "    }\n",
              "\n",
              "    .dataframe tbody tr th {\n",
              "        vertical-align: top;\n",
              "    }\n",
              "\n",
              "    .dataframe thead th {\n",
              "        text-align: right;\n",
              "    }\n",
              "</style>\n",
              "<table border=\"1\" class=\"dataframe\">\n",
              "  <thead>\n",
              "    <tr style=\"text-align: right;\">\n",
              "      <th></th>\n",
              "      <th>gmat</th>\n",
              "      <th>gpa</th>\n",
              "      <th>work_experience</th>\n",
              "      <th>admitted</th>\n",
              "    </tr>\n",
              "  </thead>\n",
              "  <tbody>\n",
              "    <tr>\n",
              "      <th>16</th>\n",
              "      <td>580</td>\n",
              "      <td>2.7</td>\n",
              "      <td>4</td>\n",
              "      <td>0</td>\n",
              "    </tr>\n",
              "    <tr>\n",
              "      <th>33</th>\n",
              "      <td>660</td>\n",
              "      <td>3.3</td>\n",
              "      <td>6</td>\n",
              "      <td>1</td>\n",
              "    </tr>\n",
              "    <tr>\n",
              "      <th>8</th>\n",
              "      <td>740</td>\n",
              "      <td>3.3</td>\n",
              "      <td>5</td>\n",
              "      <td>1</td>\n",
              "    </tr>\n",
              "    <tr>\n",
              "      <th>38</th>\n",
              "      <td>590</td>\n",
              "      <td>1.7</td>\n",
              "      <td>4</td>\n",
              "      <td>0</td>\n",
              "    </tr>\n",
              "    <tr>\n",
              "      <th>32</th>\n",
              "      <td>660</td>\n",
              "      <td>4.0</td>\n",
              "      <td>4</td>\n",
              "      <td>1</td>\n",
              "    </tr>\n",
              "  </tbody>\n",
              "</table>\n",
              "</div>\n",
              "      <button class=\"colab-df-convert\" onclick=\"convertToInteractive('df-05e1f907-f229-44fc-b7bf-79e7d718ce7a')\"\n",
              "              title=\"Convert this dataframe to an interactive table.\"\n",
              "              style=\"display:none;\">\n",
              "        \n",
              "  <svg xmlns=\"http://www.w3.org/2000/svg\" height=\"24px\"viewBox=\"0 0 24 24\"\n",
              "       width=\"24px\">\n",
              "    <path d=\"M0 0h24v24H0V0z\" fill=\"none\"/>\n",
              "    <path d=\"M18.56 5.44l.94 2.06.94-2.06 2.06-.94-2.06-.94-.94-2.06-.94 2.06-2.06.94zm-11 1L8.5 8.5l.94-2.06 2.06-.94-2.06-.94L8.5 2.5l-.94 2.06-2.06.94zm10 10l.94 2.06.94-2.06 2.06-.94-2.06-.94-.94-2.06-.94 2.06-2.06.94z\"/><path d=\"M17.41 7.96l-1.37-1.37c-.4-.4-.92-.59-1.43-.59-.52 0-1.04.2-1.43.59L10.3 9.45l-7.72 7.72c-.78.78-.78 2.05 0 2.83L4 21.41c.39.39.9.59 1.41.59.51 0 1.02-.2 1.41-.59l7.78-7.78 2.81-2.81c.8-.78.8-2.07 0-2.86zM5.41 20L4 18.59l7.72-7.72 1.47 1.35L5.41 20z\"/>\n",
              "  </svg>\n",
              "      </button>\n",
              "      \n",
              "  <style>\n",
              "    .colab-df-container {\n",
              "      display:flex;\n",
              "      flex-wrap:wrap;\n",
              "      gap: 12px;\n",
              "    }\n",
              "\n",
              "    .colab-df-convert {\n",
              "      background-color: #E8F0FE;\n",
              "      border: none;\n",
              "      border-radius: 50%;\n",
              "      cursor: pointer;\n",
              "      display: none;\n",
              "      fill: #1967D2;\n",
              "      height: 32px;\n",
              "      padding: 0 0 0 0;\n",
              "      width: 32px;\n",
              "    }\n",
              "\n",
              "    .colab-df-convert:hover {\n",
              "      background-color: #E2EBFA;\n",
              "      box-shadow: 0px 1px 2px rgba(60, 64, 67, 0.3), 0px 1px 3px 1px rgba(60, 64, 67, 0.15);\n",
              "      fill: #174EA6;\n",
              "    }\n",
              "\n",
              "    [theme=dark] .colab-df-convert {\n",
              "      background-color: #3B4455;\n",
              "      fill: #D2E3FC;\n",
              "    }\n",
              "\n",
              "    [theme=dark] .colab-df-convert:hover {\n",
              "      background-color: #434B5C;\n",
              "      box-shadow: 0px 1px 3px 1px rgba(0, 0, 0, 0.15);\n",
              "      filter: drop-shadow(0px 1px 2px rgba(0, 0, 0, 0.3));\n",
              "      fill: #FFFFFF;\n",
              "    }\n",
              "  </style>\n",
              "\n",
              "      <script>\n",
              "        const buttonEl =\n",
              "          document.querySelector('#df-05e1f907-f229-44fc-b7bf-79e7d718ce7a button.colab-df-convert');\n",
              "        buttonEl.style.display =\n",
              "          google.colab.kernel.accessAllowed ? 'block' : 'none';\n",
              "\n",
              "        async function convertToInteractive(key) {\n",
              "          const element = document.querySelector('#df-05e1f907-f229-44fc-b7bf-79e7d718ce7a');\n",
              "          const dataTable =\n",
              "            await google.colab.kernel.invokeFunction('convertToInteractive',\n",
              "                                                     [key], {});\n",
              "          if (!dataTable) return;\n",
              "\n",
              "          const docLinkHtml = 'Like what you see? Visit the ' +\n",
              "            '<a target=\"_blank\" href=https://colab.research.google.com/notebooks/data_table.ipynb>data table notebook</a>'\n",
              "            + ' to learn more about interactive tables.';\n",
              "          element.innerHTML = '';\n",
              "          dataTable['output_type'] = 'display_data';\n",
              "          await google.colab.output.renderOutput(dataTable, element);\n",
              "          const docLink = document.createElement('div');\n",
              "          docLink.innerHTML = docLinkHtml;\n",
              "          element.appendChild(docLink);\n",
              "        }\n",
              "      </script>\n",
              "    </div>\n",
              "  </div>\n",
              "  "
            ]
          },
          "metadata": {},
          "execution_count": 8
        }
      ]
    },
    {
      "cell_type": "code",
      "source": [
        "df.info()"
      ],
      "metadata": {
        "colab": {
          "base_uri": "https://localhost:8080/"
        },
        "id": "yrSPCDJVtmKx",
        "outputId": "16fdfd09-86c0-47f7-ae7a-ccba96b8c824"
      },
      "execution_count": 9,
      "outputs": [
        {
          "output_type": "stream",
          "name": "stdout",
          "text": [
            "<class 'pandas.core.frame.DataFrame'>\n",
            "Int64Index: 30 entries, 16 to 19\n",
            "Data columns (total 4 columns):\n",
            " #   Column           Non-Null Count  Dtype  \n",
            "---  ------           --------------  -----  \n",
            " 0   gmat             30 non-null     int64  \n",
            " 1   gpa              30 non-null     float64\n",
            " 2   work_experience  30 non-null     int64  \n",
            " 3   admitted         30 non-null     int64  \n",
            "dtypes: float64(1), int64(3)\n",
            "memory usage: 1.2 KB\n"
          ]
        }
      ]
    },
    {
      "cell_type": "markdown",
      "metadata": {
        "id": "Mg0YRiD2ggT5"
      },
      "source": [
        "Definimimos el conjunto de entrenamiento, esta corresponde a puntajes obtenidos por un conjuto de aspirantes a una beca. La variable a predecir (y) es la variable \"admitted\" y las demas variables seran las variables predictoras.\n",
        "Por lo tanto definimos cada uno de estos conjuntos"
      ]
    },
    {
      "cell_type": "code",
      "metadata": {
        "id": "fy6SuPM6ggT5"
      },
      "source": [
        "xtrain =df[['gmat', 'gpa', 'work_experience']]\n",
        "ytrain=df[['admitted']]"
      ],
      "execution_count": 10,
      "outputs": []
    },
    {
      "cell_type": "markdown",
      "metadata": {
        "id": "fGvCtoBJggT6"
      },
      "source": [
        "Entrenamiento del modelo"
      ]
    },
    {
      "cell_type": "code",
      "metadata": {
        "id": "wwo4o8iOggT6",
        "outputId": "55b3ecc8-3dab-497c-8de0-3fb89b03fac0",
        "colab": {
          "base_uri": "https://localhost:8080/"
        }
      },
      "source": [
        "log_reg=sm.Logit(ytrain, xtrain).fit()"
      ],
      "execution_count": 11,
      "outputs": [
        {
          "output_type": "stream",
          "name": "stdout",
          "text": [
            "Optimization terminated successfully.\n",
            "         Current function value: 0.352707\n",
            "         Iterations 8\n"
          ]
        }
      ]
    },
    {
      "cell_type": "code",
      "metadata": {
        "id": "T7KaEUeYggT7",
        "outputId": "92dafd30-a543-46c1-858d-6020a305d578",
        "colab": {
          "base_uri": "https://localhost:8080/"
        }
      },
      "source": [
        "#Revisaremos todos los indicadores y parametros del modelo \n",
        "print(log_reg.summary())\n"
      ],
      "execution_count": 12,
      "outputs": [
        {
          "output_type": "stream",
          "name": "stdout",
          "text": [
            "                           Logit Regression Results                           \n",
            "==============================================================================\n",
            "Dep. Variable:               admitted   No. Observations:                   30\n",
            "Model:                          Logit   Df Residuals:                       27\n",
            "Method:                           MLE   Df Model:                            2\n",
            "Date:                Tue, 23 Aug 2022   Pseudo R-squ.:                  0.4912\n",
            "Time:                        12:39:09   Log-Likelihood:                -10.581\n",
            "converged:                       True   LL-Null:                       -20.794\n",
            "Covariance Type:            nonrobust   LLR p-value:                 3.668e-05\n",
            "===================================================================================\n",
            "                      coef    std err          z      P>|z|      [0.025      0.975]\n",
            "-----------------------------------------------------------------------------------\n",
            "gmat               -0.0262      0.011     -2.383      0.017      -0.048      -0.005\n",
            "gpa                 3.9422      1.964      2.007      0.045       0.092       7.792\n",
            "work_experience     1.1983      0.482      2.487      0.013       0.254       2.143\n",
            "===================================================================================\n"
          ]
        }
      ]
    },
    {
      "cell_type": "markdown",
      "metadata": {
        "id": "NcmF-njpggT7"
      },
      "source": [
        "Ahora bien el modelo resultante es  admitted=-0.0262*gmat+3.9422 *gpa+1.1983*work_experience. ESte NO es un buen modelo porque si observamos  Pseudo R-squ. es de 0.49 y este debe ser cercano a 1.\n",
        "\n",
        "Vamos a validar el modelo para eso usaremos el cnjunto de datos de prueba y revisar las predicciones que se obtienen."
      ]
    },
    {
      "cell_type": "code",
      "metadata": {
        "id": "q32oJ9DHggT8"
      },
      "source": [
        "# loading the testing dataset\n",
        "df = pd.read_csv('logit_test1.csv', index_col = 0)\n",
        "\n",
        "# defining the dependent and independent variables\n",
        "Xtest = df[['gmat', 'gpa', 'work_experience']]\n",
        "ytest = df['admitted']\n",
        "\n",
        "# performing predictions on the test datdaset\n",
        "yhat = log_reg.predict(Xtest)\n",
        "prediction = list(map(round, yhat))\n",
        "\n",
        "# comparing original and predicted values of y\n",
        "print('Acutal values', list(ytest.values))\n",
        "print('Predictions :', prediction)\n"
      ],
      "execution_count": null,
      "outputs": []
    },
    {
      "cell_type": "markdown",
      "metadata": {
        "id": "jUc8zZ1JggT8"
      },
      "source": [
        "Los vectore resultantes nos muestran los valores de los datos y valores predecidos por el modelo como observamos falla en algunos, puesto que como ya se dijo anteriormente no es un buen modelo.  Es importante tener en cuenta que un modelo perfecto no extiste y siempre existiran datos que no  pueda predecir con total exactitud.\n",
        "\n",
        "Vamos a revisar otras metricas sobre las predicciones, para esto usaremos el accuracy ( Leer https://www.iartificial.net/precision-recall-f1-accuracy-en-clasificacion/#:~:text=Accuracy%20(Exactitud),-La%20exactitud%20(accuracy&text=Es%20decir%2C%20el%20modelo%20acierta%20el%2075%25%20de%20las%20veces.&text=De%20hecho%2C%20si%20tuvi%C3%A9semos%20un,su%20accuracy%20ser%C3%ADa%20del%2080%25.)   El accuracy es la exactitud del modelo es decir muestra un porcentaje de veces que lo hace exacto, por lo tanto se busca que este sea lo mas alto posible  o cercano a 1.\n",
        "\n",
        "Tambien existen otras metricas como las matriz de confusion."
      ]
    },
    {
      "cell_type": "code",
      "metadata": {
        "id": "C_-SlDYvggT9",
        "outputId": "ef81dfde-e1e2-4511-f418-a78fd973b9f5",
        "colab": {
          "base_uri": "https://localhost:8080/"
        }
      },
      "source": [
        "from sklearn.metrics import (confusion_matrix, accuracy_score)\n",
        "\n",
        " # accuracy score of the model\n",
        "print('Test accuracy = ', accuracy_score(ytest, prediction))\n",
        "\n",
        "# confusion matrix\n",
        "cm = confusion_matrix(ytest, prediction )\n",
        "print (\"Confusion Matrix : \\n\", cm) "
      ],
      "execution_count": 14,
      "outputs": [
        {
          "output_type": "stream",
          "name": "stdout",
          "text": [
            "Test accuracy =  0.8\n",
            "Confusion Matrix : \n",
            " [[6 0]\n",
            " [2 2]]\n"
          ]
        }
      ]
    }
  ]
}